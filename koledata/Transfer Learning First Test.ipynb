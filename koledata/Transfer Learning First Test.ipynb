{
 "cells": [
  {
   "cell_type": "markdown",
   "id": "797d98b6",
   "metadata": {},
   "source": [
    "# transfer Learning first test"
   ]
  },
  {
   "cell_type": "code",
   "execution_count": 1,
   "id": "aa69c567",
   "metadata": {},
   "outputs": [],
   "source": [
    "import tensorflow as tf\n",
    "import os\n",
    "import numpy as np\n",
    "import cv2\n",
    "from tensorflow.keras.layers import Dense, MaxPooling2D, Flatten, Input\n",
    "from tensorflow.keras import losses\n",
    "import matplotlib.pyplot as plt\n",
    "from tensorflow.keras.applications import vgg16\n",
    "from sklearn.model_selection import train_test_split\n",
    "from tensorflow.keras.models import Model"
   ]
  },
  {
   "cell_type": "code",
   "execution_count": 2,
   "id": "a287d157",
   "metadata": {},
   "outputs": [],
   "source": [
    "list_images = []\n",
    "labels = []\n",
    "for image_name in os.listdir(\"224_sized/\"):\n",
    "    if image_name.endswith('.jpg'):\n",
    "        image = cv2.imread(f'224_sized/{image_name}')\n",
    "        if image.shape != (224,224,3):\n",
    "            print(image_name)\n",
    "            \n",
    "        label_name = image_name.replace('.jpg','.txt')\n",
    "        with open(f'224_sized/{label_name}') as txt_file:\n",
    "            txt = txt_file.read()\n",
    "            \n",
    "        label = int(txt.split()[0])\n",
    "        labels.append(label)   \n",
    "        list_images.append(image)"
   ]
  },
  {
   "cell_type": "code",
   "execution_count": 3,
   "id": "f7c17af3",
   "metadata": {},
   "outputs": [
    {
     "name": "stdout",
     "output_type": "stream",
     "text": [
      "(414, 4)\n"
     ]
    }
   ],
   "source": [
    "new_labels = np.zeros((len(labels),4))\n",
    "print(new_labels.shape)\n",
    "for i in range(len(labels)):\n",
    "    new_labels[i,labels[i]] += 1\n",
    "    \n",
    "labels = new_labels"
   ]
  },
  {
   "cell_type": "code",
   "execution_count": 4,
   "id": "df26b601",
   "metadata": {},
   "outputs": [],
   "source": [
    "list_images = np.array(list_images)\n",
    "list_images = list_images.reshape(-1,224,224,3)\n",
    "\n",
    "X_train, X_test, Y_train, Y_test = train_test_split(list_images,labels,test_size=.2,)\n",
    "X_train, X_val, Y_train, Y_val = train_test_split(X_train,Y_train,test_size=.2)"
   ]
  },
  {
   "cell_type": "code",
   "execution_count": 5,
   "id": "29b0b9b2",
   "metadata": {},
   "outputs": [],
   "source": [
    "def featur_extractor_layer(inputs):\n",
    "    transfer_layer = vgg16.VGG16(include_top=0,input_shape=(224,224,3))(inputs)\n",
    "    return transfer_layer"
   ]
  },
  {
   "cell_type": "code",
   "execution_count": 11,
   "id": "c279f049",
   "metadata": {},
   "outputs": [],
   "source": [
    "def base_model(inputs):\n",
    "    x = featur_extractor_layer(inputs)\n",
    "    x = Flatten()(x)\n",
    "    x = Dense(100, activation='relu')(x)\n",
    "    x = Dense(4, activation='relu')(x)\n",
    "    return x"
   ]
  },
  {
   "cell_type": "code",
   "execution_count": 12,
   "id": "0baebb44",
   "metadata": {},
   "outputs": [],
   "source": [
    "def final_model(inputs):\n",
    "    outputs = base_model(inputs)\n",
    "    my_model = Model(inputs, outputs)\n",
    "    return my_model"
   ]
  },
  {
   "cell_type": "code",
   "execution_count": 13,
   "id": "0bfd45fc",
   "metadata": {},
   "outputs": [],
   "source": [
    "inputs = Input((224,224,3))\n",
    "the_model = final_model(inputs)"
   ]
  },
  {
   "cell_type": "code",
   "execution_count": 14,
   "id": "e1942806",
   "metadata": {},
   "outputs": [],
   "source": [
    "categorical_loss = losses.categorical_crossentropy\n",
    "the_model.compile(loss=categorical_loss)"
   ]
  },
  {
   "cell_type": "code",
   "execution_count": null,
   "id": "55df0672",
   "metadata": {},
   "outputs": [
    {
     "name": "stdout",
     "output_type": "stream",
     "text": [
      "Epoch 1/20\n"
     ]
    }
   ],
   "source": [
    "history = the_model.fit(X_train,Y_train,epochs=20,validation_data=(X_val,Y_val))"
   ]
  }
 ],
 "metadata": {
  "kernelspec": {
   "display_name": "Python 3 (ipykernel)",
   "language": "python",
   "name": "python3"
  },
  "language_info": {
   "codemirror_mode": {
    "name": "ipython",
    "version": 3
   },
   "file_extension": ".py",
   "mimetype": "text/x-python",
   "name": "python",
   "nbconvert_exporter": "python",
   "pygments_lexer": "ipython3",
   "version": "3.9.7"
  }
 },
 "nbformat": 4,
 "nbformat_minor": 5
}
