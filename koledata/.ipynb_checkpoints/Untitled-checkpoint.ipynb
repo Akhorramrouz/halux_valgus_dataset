{
 "cells": [
  {
   "cell_type": "code",
   "execution_count": 16,
   "id": "2b1599b0",
   "metadata": {},
   "outputs": [],
   "source": [
    "import numpy as np\n",
    "import cv2\n",
    "import matplotlib.pyplot as plt\n",
    "import os\n",
    "import shutil"
   ]
  },
  {
   "cell_type": "code",
   "execution_count": 17,
   "id": "07a9bb9a",
   "metadata": {},
   "outputs": [],
   "source": [
    "list_data = os.listdir('224_sized/')"
   ]
  },
  {
   "cell_type": "code",
   "execution_count": 8,
   "id": "ba125ab9",
   "metadata": {},
   "outputs": [],
   "source": [
    "os.mkdir('binary_Ground_Truth')"
   ]
  },
  {
   "cell_type": "code",
   "execution_count": 18,
   "id": "7c406805",
   "metadata": {},
   "outputs": [
    {
     "ename": "TypeError",
     "evalue": "ufunc 'add' output (typecode 'O') could not be coerced to provided output parameter (typecode 'd') according to the casting rule ''same_kind''",
     "output_type": "error",
     "traceback": [
      "\u001b[1;31m---------------------------------------------------------------------------\u001b[0m",
      "\u001b[1;31mTypeError\u001b[0m                                 Traceback (most recent call last)",
      "\u001b[1;32m~\\AppData\\Local\\Temp/ipykernel_4620/4254994242.py\u001b[0m in \u001b[0;36m<module>\u001b[1;34m\u001b[0m\n\u001b[0;32m     20\u001b[0m         \u001b[0mnew_image\u001b[0m \u001b[1;33m=\u001b[0m \u001b[0mnp\u001b[0m\u001b[1;33m.\u001b[0m\u001b[0mzeros\u001b[0m\u001b[1;33m(\u001b[0m\u001b[1;33m(\u001b[0m\u001b[1;36m224\u001b[0m\u001b[1;33m,\u001b[0m\u001b[1;36m224\u001b[0m\u001b[1;33m)\u001b[0m\u001b[1;33m)\u001b[0m\u001b[1;33m\u001b[0m\u001b[1;33m\u001b[0m\u001b[0m\n\u001b[0;32m     21\u001b[0m \u001b[1;33m\u001b[0m\u001b[0m\n\u001b[1;32m---> 22\u001b[1;33m         new_image[int(h_center_box-(delta_h/2)-5):int(h_center_box+(delta_h/2)+5),\n\u001b[0m\u001b[0;32m     23\u001b[0m                 int(w_center_box-(delta_w/2)-5):int(w_center_box+(delta_w/2))+5] += binary_cropped_image\n\u001b[0;32m     24\u001b[0m \u001b[1;33m\u001b[0m\u001b[0m\n",
      "\u001b[1;31mTypeError\u001b[0m: ufunc 'add' output (typecode 'O') could not be coerced to provided output parameter (typecode 'd') according to the casting rule ''same_kind''"
     ]
    }
   ],
   "source": [
    "for image_name in list_data:\n",
    "    if image_name.endswith(\".jpg\"):\n",
    "        \n",
    "        image = cv2.imread(f\"224_sized/{image_name}\", 0)\n",
    "        text_file_name = image_name.replace(\".jpg\",\".txt\")\n",
    "        with open(f'224_sized/{text_file_name}') as text_file:\n",
    "            text = text_file.read()\n",
    "            \n",
    "        points = text.split()         \n",
    "        w_center_box = int(float(points[1])*224)\n",
    "        h_center_box = int(float(points[2])*224)\n",
    "        delta_w = int(float(points[3])* 224)\n",
    "        delta_h = int(float(points[4])* 224)\n",
    "\n",
    "        croped_image = image[int(h_center_box-(delta_h/2)-5):int(h_center_box+(delta_h/2)),\n",
    "                             int(w_center_box-(delta_w/2)-5):int(w_center_box+(delta_w/2)+5)]\n",
    "        \n",
    "        binary_cropped_image = cv2.threshold(croped_image,0,255,cv2.THRESH_OTSU)[1]\n",
    "        \n",
    "        new_image = np.zeros((224,224))\n",
    "        \n",
    "        new_image[int(h_center_box-(delta_h/2)-5):int(h_center_box+(delta_h/2)+5),\n",
    "                int(w_center_box-(delta_w/2)-5):int(w_center_box+(delta_w/2))+5] += binary_cropped_image\n",
    "        \n",
    "        cv2.imwrite(f'binary_Ground_Truth/{image_name}', new_image)\n",
    "        shutil.copy(f'224_sized/{text_file_name}',f'binary_Ground_Truth/{text_file_name}')\n",
    "        \n",
    "        "
   ]
  },
  {
   "cell_type": "code",
   "execution_count": 19,
   "id": "697a0847",
   "metadata": {},
   "outputs": [
    {
     "data": {
      "text/plain": [
       "'sample (15).jpg'"
      ]
     },
     "execution_count": 19,
     "metadata": {},
     "output_type": "execute_result"
    }
   ],
   "source": [
    "image_name"
   ]
  },
  {
   "cell_type": "code",
   "execution_count": null,
   "id": "14aa175f",
   "metadata": {},
   "outputs": [],
   "source": []
  }
 ],
 "metadata": {
  "kernelspec": {
   "display_name": "Python 3 (ipykernel)",
   "language": "python",
   "name": "python3"
  },
  "language_info": {
   "codemirror_mode": {
    "name": "ipython",
    "version": 3
   },
   "file_extension": ".py",
   "mimetype": "text/x-python",
   "name": "python",
   "nbconvert_exporter": "python",
   "pygments_lexer": "ipython3",
   "version": "3.9.7"
  }
 },
 "nbformat": 4,
 "nbformat_minor": 5
}
