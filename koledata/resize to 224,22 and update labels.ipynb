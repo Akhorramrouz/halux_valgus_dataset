{
 "cells": [
  {
   "cell_type": "code",
   "execution_count": 8,
   "id": "fb290485",
   "metadata": {},
   "outputs": [],
   "source": [
    "import numpy as np\n",
    "import cv2\n",
    "import matplotlib.pyplot as plt\n",
    "import os"
   ]
  },
  {
   "cell_type": "code",
   "execution_count": 9,
   "id": "7d52be9b",
   "metadata": {},
   "outputs": [],
   "source": [
    "os.mkdir('224_sized')"
   ]
  },
  {
   "cell_type": "code",
   "execution_count": 10,
   "id": "3ebcc8b1",
   "metadata": {},
   "outputs": [],
   "source": [
    "list_images_and_texts = os.listdir()\n",
    "for image_name in list_images_and_texts:\n",
    "    \n",
    "    \n",
    "    if image_name.endswith('.jpg'):\n",
    "        image = cv2.imread(image_name)\n",
    "        image = cv2.copyMakeBorder(image,0,20,0,20,cv2.BORDER_CONSTANT)\n",
    "        cv2.imwrite(f'224_sized/{image_name}', image)\n",
    "        \n",
    "        text_file_name = image_name.replace('.jpg','.txt')\n",
    "        with open(text_file_name) as file:\n",
    "            text = file.read()\n",
    "            \n",
    "            points = text.split()\n",
    "            \n",
    "        new_points = []\n",
    "        new_points.append(points[0])\n",
    "        for i in range(1,5):\n",
    "#            print(points[i])\n",
    "            new_points.append(float(points[i])*204/224)\n",
    "\n",
    "        new_txt = str(points[0])\n",
    "        for i in range(1,5):\n",
    "            new_txt += (f\" {new_points[i]:.6f}\")\n",
    "#            print(new_txt)\n",
    "\n",
    "        with open(f'224_sized/{text_file_name}','w+') as new_file:\n",
    "            new_file.write(new_txt)\n",
    "      \n",
    "                \n",
    "#         with open(f\"224_sized/{text_file_name}\") as file:\n",
    "#             text = file.read()\n",
    "            \n",
    "#         points = text.split()         \n",
    "#         class_ = points[0]\n",
    "#         w_center_box = int(float(points[1])*224)\n",
    "#         h_center_box = int(float(points[2])*224)\n",
    "#         delta_w = int(float(points[3])* 224)\n",
    "#         delta_h = int(float(points[4])* 224)\n",
    "\n",
    "#         croped_image = image[int(h_center_box-(delta_h/2)):int(h_center_box+(delta_h/2)),\n",
    "#                              int(w_center_box-(delta_w/2)):int(w_center_box+(delta_w/2)),:]\n",
    "        \n",
    "#         plt.imshow(croped_image)\n",
    "        \n",
    "      \n",
    "        \n",
    "        "
   ]
  }
 ],
 "metadata": {
  "kernelspec": {
   "display_name": "Python 3 (ipykernel)",
   "language": "python",
   "name": "python3"
  },
  "language_info": {
   "codemirror_mode": {
    "name": "ipython",
    "version": 3
   },
   "file_extension": ".py",
   "mimetype": "text/x-python",
   "name": "python",
   "nbconvert_exporter": "python",
   "pygments_lexer": "ipython3",
   "version": "3.9.7"
  }
 },
 "nbformat": 4,
 "nbformat_minor": 5
}
